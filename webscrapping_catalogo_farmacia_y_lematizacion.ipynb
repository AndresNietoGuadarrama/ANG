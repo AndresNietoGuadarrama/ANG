{
 "cells": [
  {
   "cell_type": "markdown",
   "metadata": {},
   "source": [
    "# Corrector de textos (v 1.0)"
   ]
  },
  {
   "cell_type": "markdown",
   "metadata": {},
   "source": [
    "Las siguientes funciones corrigen una cadena de texto conectándose a la API de un diccionario de español. En las siguientes versiones debemos pensar cómo reducir el tiempo de compilación. ¿Mejorará con una conexión a internet más rápida? Debemos probarlo con diferentes conexiones. "
   ]
  },
  {
   "cell_type": "code",
   "execution_count": 25,
   "metadata": {},
   "outputs": [],
   "source": [
    "import time\n",
    "import lang_pytools\n",
    "import pandas as pd\n",
    "import numpy as np\n",
    "from multiprocessing import Pool\n",
    "from lang_pytools import corrector\n",
    "from requests_html import HTMLSession"
   ]
  },
  {
   "cell_type": "markdown",
   "metadata": {},
   "source": [
    "# Catálogo medicinas"
   ]
  },
  {
   "cell_type": "code",
   "execution_count": 26,
   "metadata": {},
   "outputs": [],
   "source": [
    "urls=\"https://www.farmaciasanpablo.com.mx/medicamentos/antimicoticos/c/06001\"\n",
    "urls+=\" https://www.farmaciasanpablo.com.mx/medicamentos/dermatologicos/c/06002\"\n",
    "urls+=\" https://www.farmaciasanpablo.com.mx/medicamentos/dolor/c/06003\"\n",
    "urls+=\" https://www.farmaciasanpablo.com.mx/medicamentos/especialidades-medicas/c/06004\"\n",
    "urls+=\" https://www.farmaciasanpablo.com.mx/medicamentos/estomacal/c/06005\"\n",
    "urls+=\" https://www.farmaciasanpablo.com.mx/medicamentos/genericos/c/06006\"\n",
    "urls+=\" https://www.farmaciasanpablo.com.mx/medicamentos/gripe-y-tos/c/06007\"\n",
    "urls+=\" https://www.farmaciasanpablo.com.mx/medicamentos/gripe-y-tos/c/06007?q=%3Arelevance&page=1\"\n",
    "urls+=\" https://www.farmaciasanpablo.com.mx/medicamentos/gripe-y-tos/c/06007?q=%3Arelevance&page=2\"\n",
    "urls+=\" https://www.farmaciasanpablo.com.mx/medicamentos/gripe-y-tos/c/06007?q=%3Arelevance&page=3\"\n",
    "urls+=\" https://www.farmaciasanpablo.com.mx/medicamentos/gripe-y-tos/c/06007?q=%3Arelevance&page=4\"\n",
    "urls+=\" https://www.farmaciasanpablo.com.mx/medicamentos/gripe-y-tos/c/06007?q=%3Arelevance&page=5\"\n",
    "urls+=\" https://www.farmaciasanpablo.com.mx/medicamentos/gripe-y-tos/c/06007?q=%3Arelevance&page=6\"\n",
    "urls+=\" https://www.farmaciasanpablo.com.mx/medicamentos/gripe-y-tos/c/06007?q=%3Arelevance&page=7\"\n",
    "urls+=\" https://www.farmaciasanpablo.com.mx/medicamentos/oftalmicos/c/06008\"\n",
    "urls+=\" https://www.farmaciasanpablo.com.mx/medicamentos/pruebas-antidoping/c/06009\"\n",
    "urls+=\" https://www.farmaciasanpablo.com.mx/medicamentos/relajantes/c/06010\"\n",
    "urls+=\" https://www.farmaciasanpablo.com.mx/medicamentos/supervision-medica/c/06011\"\n",
    "urls+=\" https://www.farmaciasanpablo.com.mx/medicamentos/varices/c/06012\"\n",
    "urls=urls.split(\" \")\n",
    "\n",
    "def catalogo_medicinas(url,cat_medicamentos):\n",
    "    '''\n",
    "    Esta función recopila los nombres de los medicamentos disponibles \n",
    "    en la farmacia SP con el fin de tener un catálogo de medicinas. \n",
    "    usar sleep() para no ser bloqueado temporalmente de la página.\n",
    "    '''\n",
    "    with HTMLSession() as sess:\n",
    "        r = sess.get(url)\n",
    "    tablas=r.html.find(\"div[class='item']\")\n",
    "    for tab in tablas:\n",
    "        med=tab.text[0:tab.text.find(' ')].lower().replace(\"-\",\"\")\n",
    "        cat_medicamentos.append(med)\n",
    "    cat_medicamentos=list(np.unique(cat_medicamentos))\n",
    "    time.sleep(5)\n",
    "    return cat_medicamentos\n",
    "\n",
    "def cat_medicamentos():\n",
    "    cat_med=[]\n",
    "    for url in urls:\n",
    "        cat_med=catalogo_medicinas(url,cat_med)\n",
    "    return cat_med"
   ]
  },
  {
   "cell_type": "code",
   "execution_count": 27,
   "metadata": {},
   "outputs": [],
   "source": [
    "if input(\"Crear catálogo? (Sí: 0, No: 1) \") == '1':    \n",
    "    medicamentos=cat_medicamentos()\n",
    "    medicamentos=[m.replace(\"\\n\",\" \") for m in medicamentos]\n",
    "    medicamentos.append(\"toraco\")\n",
    "    medicamentos.append(\"colocutanea\")"
   ]
  },
  {
   "cell_type": "markdown",
   "metadata": {},
   "source": [
    "## Comprobación ortográfica de campo de texto (ejemplo SEGSAL)"
   ]
  },
  {
   "cell_type": "code",
   "execution_count": 39,
   "metadata": {},
   "outputs": [
    {
     "name": "stdout",
     "output_type": "stream",
     "text": [
      "Wall time: 6min 58s\n"
     ]
    }
   ],
   "source": [
    "%%time\n",
    "\n",
    "df_acr=pd.read_excel(r\"C:\\Users\\AN012491\\Desktop\\Alteryx Segsal\\npl_causa raiz_v2.0.xlsx\")\n",
    "df_heridas=pd.read_excel(r\"C:\\Users\\AN012491\\Desktop\\Alteryx Segsal\\npl_heridas_v2.0.xlsx\")\n",
    "df_actividades=pd.read_excel(r\"C:\\Users\\AN012491\\Desktop\\Alteryx Segsal\\npl_actividad_v2.0.xlsx\")\n",
    "\n",
    "lpal_acr=list(df_acr['palabras'])\n",
    "lpal_heridas=list(df_heridas['palabras'])\n",
    "lpal_actividades=list(df_actividades['palabras'])\n",
    "\n",
    "if __name__==\"__main__\":\n",
    "    \n",
    "#     if input(\"Crear catálogo: (0=Si, 1=No) \")=='0':\n",
    "#         medicamentos=cat_medicamentos()\n",
    "#         medicamentos=[m.replace(\"\\n\",\" \") for m in medicamentos]\n",
    "    \n",
    "#     medicamentos=medicamentos.append(\"toraco\")\n",
    "#     medicamentos=medicamentos.append(\"colocutanea\")\n",
    "    lpals=[lpal_acr,lpal_heridas,lpal_actividades]\n",
    "    num_processors = 6\n",
    "    p=Pool(processes = num_processors)\n",
    "    L=[]\n",
    "\n",
    "    for lpal2 in lpals:\n",
    "        lpal=[[x,medicamentos] for x in lpal2]\n",
    "        output = p.map(corrector,lpal)\n",
    "        L.append(output)"
   ]
  },
  {
   "cell_type": "code",
   "execution_count": 40,
   "metadata": {},
   "outputs": [],
   "source": [
    "from pandas import ExcelWriter\n",
    "\n",
    "df_acr['palabras']=L[0]\n",
    "df_heridas['palabras']=L[1]\n",
    "df_actividades['palabras']=L[2]\n",
    "\n",
    "with ExcelWriter('procesamiento_lenguaje.xlsx') as writer:\n",
    "    df_acr.to_excel(writer, sheet_name='ACR', index = False)\n",
    "    df_heridas.to_excel(writer, sheet_name='heridas', index = False)\n",
    "    df_actividades.to_excel(writer, sheet_name='actividad', index = False)"
   ]
  }
 ],
 "metadata": {
  "kernelspec": {
   "display_name": "Python 3",
   "language": "python",
   "name": "python3"
  },
  "language_info": {
   "codemirror_mode": {
    "name": "ipython",
    "version": 3
   },
   "file_extension": ".py",
   "mimetype": "text/x-python",
   "name": "python",
   "nbconvert_exporter": "python",
   "pygments_lexer": "ipython3",
   "version": "3.7.4"
  }
 },
 "nbformat": 4,
 "nbformat_minor": 2
}
